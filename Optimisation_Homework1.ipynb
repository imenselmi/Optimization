{
  "nbformat": 4,
  "nbformat_minor": 0,
  "metadata": {
    "colab": {
      "name": "Optimisation_Homework1.ipynb",
      "provenance": [],
      "collapsed_sections": []
    },
    "kernelspec": {
      "name": "python3",
      "display_name": "Python 3"
    },
    "language_info": {
      "name": "python"
    }
  },
  "cells": [
    {
      "cell_type": "code",
      "metadata": {
        "colab": {
          "base_uri": "https://localhost:8080/"
        },
        "id": "2yxv3kKQJPik",
        "outputId": "99326339-fd9c-486a-c261-3ca6f7811268"
      },
      "source": [
        "from google.colab import drive\n",
        "drive.mount('/content/drive')\n",
        "cd='/content/drive/My Drive/Colab Notebooks/'\n",
        "%cd /content/drive/My Drive/Colab Notebooks/\n",
        "import numpy as np\n",
        "import os, cv2"
      ],
      "execution_count": null,
      "outputs": [
        {
          "output_type": "stream",
          "name": "stdout",
          "text": [
            "Drive already mounted at /content/drive; to attempt to forcibly remount, call drive.mount(\"/content/drive\", force_remount=True).\n",
            "/content/drive/My Drive/Colab Notebooks\n"
          ]
        }
      ]
    },
    {
      "cell_type": "code",
      "metadata": {
        "colab": {
          "base_uri": "https://localhost:8080/"
        },
        "id": "gaKrbxOr-MbK",
        "outputId": "52ce757f-cb97-4c52-e3aa-7d8403a876c2"
      },
      "source": [
        "data_path = '/content/drive/MyDrive/Colab Notebooks/CK+48'\n",
        "data_dir_list = os.listdir(data_path)\n",
        "img_data_list=[]\n",
        "labels_list=[]\n",
        "class_value=0 #i is the label \n",
        "for dataset in data_dir_list:\n",
        "    img_list=os.listdir(data_path+'/'+ dataset)\n",
        "    print ('Loaded the images of dataset-'+'{}\\n'.format(dataset))\n",
        "    for img in img_list:\n",
        "        # Using 0 to read image in grayscale mode\n",
        "        input_img=cv2.imread(data_path + '/'+ dataset + '/'+ img, 0 )\n",
        "        #input_img=cv2.cvtColor(input_img, cv2.COLOR_BGR2GRAY)\n",
        "        #input_img_resize=cv2.resize(input_img,(48,48))\n",
        "        img_data_list.append(input_img)\n",
        "        labels_list.append(class_value)\n",
        "    class_value+=1\n",
        "        \n",
        "img_data = np.array(img_data_list)\n",
        "img_data = img_data.astype('float32')\n",
        "img_data = img_data/np.amax(img_data)#normalize data by dividing each pixel value by the maximum\n",
        "img_data.shape #The dataset contains 750 images, each image is a 2D shape 48x48"
      ],
      "execution_count": null,
      "outputs": [
        {
          "output_type": "stream",
          "name": "stdout",
          "text": [
            "Loaded the images of dataset-surprise\n",
            "\n",
            "Loaded the images of dataset-anger\n",
            "\n",
            "Loaded the images of dataset-sadness\n",
            "\n",
            "Loaded the images of dataset-fear\n",
            "\n",
            "Loaded the images of dataset-happy\n",
            "\n"
          ]
        },
        {
          "output_type": "execute_result",
          "data": {
            "text/plain": [
              "(750, 48, 48)"
            ]
          },
          "metadata": {},
          "execution_count": 2
        }
      ]
    },
    {
      "cell_type": "code",
      "metadata": {
        "colab": {
          "base_uri": "https://localhost:8080/"
        },
        "id": "3aG4-LpSXJ-5",
        "outputId": "ee883bd2-3c85-43dc-b9b5-3ee364f3cfc6"
      },
      "source": [
        "labels = np.array(labels_list)\n",
        "labels = labels.astype('int32')\n",
        "print(labels.shape)"
      ],
      "execution_count": null,
      "outputs": [
        {
          "output_type": "stream",
          "name": "stdout",
          "text": [
            "(750,)\n"
          ]
        }
      ]
    },
    {
      "cell_type": "code",
      "metadata": {
        "id": "ojChhgoWLL6G"
      },
      "source": [
        "pip install pygad>=2.8.0"
      ],
      "execution_count": null,
      "outputs": []
    },
    {
      "cell_type": "code",
      "metadata": {
        "id": "F8ic91udI1gr"
      },
      "source": [
        "import pygad\n",
        "import tensorflow\n",
        "# Keras Models\n",
        "import keras \n",
        "from keras.models import Sequential\n",
        "from keras.layers import Dense, Input\n",
        "from keras.datasets import mnist\n",
        "\n",
        "# Aditional Libs\n",
        "import numpy\n",
        "import matplotlib.pyplot as plt\n",
        "from tensorflow.keras.utils import to_categorical\n"
      ],
      "execution_count": null,
      "outputs": []
    },
    {
      "cell_type": "markdown",
      "metadata": {
        "id": "F2OUkvT7TS_l"
      },
      "source": [
        "**Keras Model**"
      ]
    },
    {
      "cell_type": "code",
      "metadata": {
        "id": "D9KsMxS4Tltb"
      },
      "source": [
        "input_layer  = Input(48*48)\n",
        "hidden_layer1 =Dense(256, activation=\"relu\")(input_layer)\n",
        "output_layer = Dense(5, activation=\"softmax\")(hidden_layer1)\n",
        "\n",
        "model = tensorflow.keras.Model(inputs=input_layer, outputs=output_layer)"
      ],
      "execution_count": null,
      "outputs": []
    },
    {
      "cell_type": "code",
      "metadata": {
        "colab": {
          "base_uri": "https://localhost:8080/"
        },
        "id": "d4CTe1eDT04A",
        "outputId": "dc6df38d-2274-41a0-8b74-fb017e53b571"
      },
      "source": [
        "model.summary()"
      ],
      "execution_count": null,
      "outputs": [
        {
          "output_type": "stream",
          "name": "stdout",
          "text": [
            "Model: \"model\"\n",
            "_________________________________________________________________\n",
            " Layer (type)                Output Shape              Param #   \n",
            "=================================================================\n",
            " input_1 (InputLayer)        [(None, 2304)]            0         \n",
            "                                                                 \n",
            " dense (Dense)               (None, 256)               590080    \n",
            "                                                                 \n",
            " dense_1 (Dense)             (None, 5)                 1285      \n",
            "                                                                 \n",
            "=================================================================\n",
            "Total params: 591,365\n",
            "Trainable params: 591,365\n",
            "Non-trainable params: 0\n",
            "_________________________________________________________________\n"
          ]
        }
      ]
    },
    {
      "cell_type": "markdown",
      "metadata": {
        "id": "mIBoedkKU8Tt"
      },
      "source": [
        "**Instantiate the kerasGA class**"
      ]
    },
    {
      "cell_type": "code",
      "metadata": {
        "id": "me7bd8tcVFcf"
      },
      "source": [
        "import pygad.kerasga\n",
        "\n",
        "keras_ga = pygad.kerasga.KerasGA(model=model,\n",
        "                                 num_solutions=10)"
      ],
      "execution_count": null,
      "outputs": []
    },
    {
      "cell_type": "markdown",
      "metadata": {
        "id": "Acm8fU4vSLZS"
      },
      "source": [
        "**Fitness function**"
      ]
    },
    {
      "cell_type": "code",
      "metadata": {
        "id": "ZDXJW_s2WnCo"
      },
      "source": [
        "from sklearn.model_selection import train_test_split\n",
        "# Split the dataset into two subsets (70%-30%). \n",
        "data_inputs,x_test, data_outputs , y_test = train_test_split(img_data, labels, test_size=0.3, shuffle=True, random_state=3)\n",
        "#reshape your input to 1D \n",
        "data_inputs=numpy.reshape(data_inputs, newshape=(data_inputs.shape[0],-1))\n",
        "data_inputs.shape, data_outputs.shape\n",
        "x_test=numpy.reshape(x_test, newshape=(x_test.shape[0],-1))\n"
      ],
      "execution_count": null,
      "outputs": []
    },
    {
      "cell_type": "code",
      "metadata": {
        "id": "_NYTY8R7WWga"
      },
      "source": [
        "data_inputs = data_inputs.astype('float32')\n",
        "x_test = x_test.astype('float32')\n",
        "data_inputs /= 255\n",
        "x_test /= 255\n",
        "\n",
        "data_outputs = to_categorical(data_outputs, 5)\n",
        "y_test = to_categorical(y_test, 5)"
      ],
      "execution_count": null,
      "outputs": []
    },
    {
      "cell_type": "code",
      "metadata": {
        "id": "Tdh9Kf6XSR4o"
      },
      "source": [
        "def fitness_func(solution, sol_idx):\n",
        "    global data_inputs, data_outputs, keras_ga, model\n",
        "    model_weights_matrix = pygad.kerasga.model_weights_as_matrix(model=model,\n",
        "                                                                 weights_vector=solution)\n",
        "\n",
        "    model.set_weights(weights=model_weights_matrix)\n",
        "\n",
        "    predictions = model.predict(data_inputs)\n",
        "\n",
        "    cce = tensorflow.keras.losses.CategoricalCrossentropy()\n",
        "    solution_fitness = 1.0 / (cce(data_outputs, predictions).numpy() + 0.00000001)\n",
        "\n",
        "    return solution_fitness"
      ],
      "execution_count": null,
      "outputs": []
    },
    {
      "cell_type": "code",
      "metadata": {
        "id": "8LJxTQkiTIvP"
      },
      "source": [
        "def callback_generation(ga_instance):\n",
        "    print(\"Generation = {generation}\".format(generation=ga_instance.generations_completed))\n",
        "    print(\"Fitness    = {fitness}\".format(fitness=ga_instance.best_solution()[1]))"
      ],
      "execution_count": null,
      "outputs": []
    },
    {
      "cell_type": "markdown",
      "metadata": {
        "id": "TYhZ50rIVvUa"
      },
      "source": [
        "**Instantiate the pygad.GA class**"
      ]
    },
    {
      "cell_type": "code",
      "metadata": {
        "id": "jXkRYjNFVoET"
      },
      "source": [
        "num_generations = 200\n",
        "num_parents_mating =5\n",
        "initial_population = keras_ga.population_weights\n",
        "\n",
        "ga_instance = pygad.GA(num_generations=num_generations, \n",
        "                       num_parents_mating=num_parents_mating, \n",
        "                       initial_population=initial_population,\n",
        "                       fitness_func=fitness_func,\n",
        "                       on_generation=callback_generation)"
      ],
      "execution_count": null,
      "outputs": []
    },
    {
      "cell_type": "markdown",
      "metadata": {
        "id": "MigCpMalWKk3"
      },
      "source": [
        "**Run the GA**"
      ]
    },
    {
      "cell_type": "code",
      "metadata": {
        "colab": {
          "base_uri": "https://localhost:8080/"
        },
        "id": "aq2rU1IbWOv_",
        "outputId": "24684b4b-d167-4fb3-b322-198e055e1ab9"
      },
      "source": [
        "ga_instance.run()"
      ],
      "execution_count": null,
      "outputs": [
        {
          "output_type": "stream",
          "name": "stdout",
          "text": [
            "Generation = 1\n",
            "Fitness    = 0.6212075574397123\n",
            "Generation = 2\n",
            "Fitness    = 0.6212075574397123\n",
            "Generation = 3\n",
            "Fitness    = 0.6212075574397123\n",
            "Generation = 4\n",
            "Fitness    = 0.6212075574397123\n",
            "Generation = 5\n",
            "Fitness    = 0.6282035420160778\n",
            "Generation = 6\n",
            "Fitness    = 0.6287394146639553\n",
            "Generation = 7\n",
            "Fitness    = 0.6438938065164326\n",
            "Generation = 8\n",
            "Fitness    = 0.6438938065164326\n",
            "Generation = 9\n",
            "Fitness    = 0.6473176804386145\n",
            "Generation = 10\n",
            "Fitness    = 0.6473176804386145\n",
            "Generation = 11\n",
            "Fitness    = 0.6473176804386145\n",
            "Generation = 12\n",
            "Fitness    = 0.6473176804386145\n",
            "Generation = 13\n",
            "Fitness    = 0.6473176804386145\n",
            "Generation = 14\n",
            "Fitness    = 0.6473176804386145\n",
            "Generation = 15\n",
            "Fitness    = 0.6473176804386145\n",
            "Generation = 16\n",
            "Fitness    = 0.6473176804386145\n",
            "Generation = 17\n",
            "Fitness    = 0.6473176804386145\n",
            "Generation = 18\n",
            "Fitness    = 0.6473176804386145\n",
            "Generation = 19\n",
            "Fitness    = 0.6536498332735453\n",
            "Generation = 20\n",
            "Fitness    = 0.6536498332735453\n",
            "Generation = 21\n",
            "Fitness    = 0.6536498332735453\n",
            "Generation = 22\n",
            "Fitness    = 0.6536498332735453\n",
            "Generation = 23\n",
            "Fitness    = 0.6536498332735453\n",
            "Generation = 24\n",
            "Fitness    = 0.6536498332735453\n",
            "Generation = 25\n",
            "Fitness    = 0.6536498332735453\n",
            "Generation = 26\n",
            "Fitness    = 0.6589163939624513\n",
            "Generation = 27\n",
            "Fitness    = 0.6589163939624513\n",
            "Generation = 28\n",
            "Fitness    = 0.6589163939624513\n",
            "Generation = 29\n",
            "Fitness    = 0.6589163939624513\n",
            "Generation = 30\n",
            "Fitness    = 0.6589163939624513\n",
            "Generation = 31\n",
            "Fitness    = 0.6589163939624513\n",
            "Generation = 32\n",
            "Fitness    = 0.6589163939624513\n",
            "Generation = 33\n",
            "Fitness    = 0.6589163939624513\n",
            "Generation = 34\n",
            "Fitness    = 0.6589163939624513\n",
            "Generation = 35\n",
            "Fitness    = 0.6589163939624513\n",
            "Generation = 36\n",
            "Fitness    = 0.6589163939624513\n",
            "Generation = 37\n",
            "Fitness    = 0.6589163939624513\n",
            "Generation = 38\n",
            "Fitness    = 0.6589163939624513\n",
            "Generation = 39\n",
            "Fitness    = 0.6589163939624513\n",
            "Generation = 40\n",
            "Fitness    = 0.6589163939624513\n",
            "Generation = 41\n",
            "Fitness    = 0.6589163939624513\n",
            "Generation = 42\n",
            "Fitness    = 0.6589163939624513\n",
            "Generation = 43\n",
            "Fitness    = 0.6589163939624513\n",
            "Generation = 44\n",
            "Fitness    = 0.6589163939624513\n",
            "Generation = 45\n",
            "Fitness    = 0.6589163939624513\n",
            "Generation = 46\n",
            "Fitness    = 0.6589163939624513\n",
            "Generation = 47\n",
            "Fitness    = 0.6589163939624513\n",
            "Generation = 48\n",
            "Fitness    = 0.6589163939624513\n",
            "Generation = 49\n",
            "Fitness    = 0.6589163939624513\n",
            "Generation = 50\n",
            "Fitness    = 0.6589163939624513\n",
            "Generation = 51\n",
            "Fitness    = 0.6589163939624513\n",
            "Generation = 52\n",
            "Fitness    = 0.6589163939624513\n",
            "Generation = 53\n",
            "Fitness    = 0.6589163939624513\n",
            "Generation = 54\n",
            "Fitness    = 0.6589163939624513\n",
            "Generation = 55\n",
            "Fitness    = 0.6589163939624513\n",
            "Generation = 56\n",
            "Fitness    = 0.6589163939624513\n",
            "Generation = 57\n",
            "Fitness    = 0.6589163939624513\n",
            "Generation = 58\n",
            "Fitness    = 0.6589163939624513\n",
            "Generation = 59\n",
            "Fitness    = 0.6589163939624513\n",
            "Generation = 60\n",
            "Fitness    = 0.6589163939624513\n",
            "Generation = 61\n",
            "Fitness    = 0.6589163939624513\n",
            "Generation = 62\n",
            "Fitness    = 0.6589163939624513\n",
            "Generation = 63\n",
            "Fitness    = 0.6589163939624513\n",
            "Generation = 64\n",
            "Fitness    = 0.6589163939624513\n",
            "Generation = 65\n",
            "Fitness    = 0.6589163939624513\n",
            "Generation = 66\n",
            "Fitness    = 0.6589163939624513\n",
            "Generation = 67\n",
            "Fitness    = 0.6589163939624513\n",
            "Generation = 68\n",
            "Fitness    = 0.6589163939624513\n",
            "Generation = 69\n",
            "Fitness    = 0.6589163939624513\n",
            "Generation = 70\n",
            "Fitness    = 0.6589163939624513\n",
            "Generation = 71\n",
            "Fitness    = 0.6589163939624513\n",
            "Generation = 72\n",
            "Fitness    = 0.6589163939624513\n",
            "Generation = 73\n",
            "Fitness    = 0.6589163939624513\n",
            "Generation = 74\n",
            "Fitness    = 0.6589163939624513\n",
            "Generation = 75\n",
            "Fitness    = 0.6589163939624513\n",
            "Generation = 76\n",
            "Fitness    = 0.6589163939624513\n",
            "Generation = 77\n",
            "Fitness    = 0.6589163939624513\n",
            "Generation = 78\n",
            "Fitness    = 0.6589163939624513\n",
            "Generation = 79\n",
            "Fitness    = 0.6589163939624513\n",
            "Generation = 80\n",
            "Fitness    = 0.6589163939624513\n",
            "Generation = 81\n",
            "Fitness    = 0.6589163939624513\n",
            "Generation = 82\n",
            "Fitness    = 0.6589163939624513\n",
            "Generation = 83\n",
            "Fitness    = 0.6589163939624513\n",
            "Generation = 84\n",
            "Fitness    = 0.6589163939624513\n",
            "Generation = 85\n",
            "Fitness    = 0.6589163939624513\n",
            "Generation = 86\n",
            "Fitness    = 0.6589163939624513\n",
            "Generation = 87\n",
            "Fitness    = 0.6589163939624513\n",
            "Generation = 88\n",
            "Fitness    = 0.6589163939624513\n",
            "Generation = 89\n",
            "Fitness    = 0.6589163939624513\n",
            "Generation = 90\n",
            "Fitness    = 0.6596651871407383\n",
            "Generation = 91\n",
            "Fitness    = 0.6596651871407383\n",
            "Generation = 92\n",
            "Fitness    = 0.6596651871407383\n",
            "Generation = 93\n",
            "Fitness    = 0.6596651871407383\n",
            "Generation = 94\n",
            "Fitness    = 0.6596651871407383\n",
            "Generation = 95\n",
            "Fitness    = 0.6596651871407383\n",
            "Generation = 96\n",
            "Fitness    = 0.6596651871407383\n",
            "Generation = 97\n",
            "Fitness    = 0.6596651871407383\n",
            "Generation = 98\n",
            "Fitness    = 0.6596651871407383\n",
            "Generation = 99\n",
            "Fitness    = 0.6596651871407383\n",
            "Generation = 100\n",
            "Fitness    = 0.6596651871407383\n",
            "Generation = 101\n",
            "Fitness    = 0.6596651871407383\n",
            "Generation = 102\n",
            "Fitness    = 0.6596651871407383\n",
            "Generation = 103\n",
            "Fitness    = 0.6596651871407383\n",
            "Generation = 104\n",
            "Fitness    = 0.6596651871407383\n",
            "Generation = 105\n",
            "Fitness    = 0.6596651871407383\n",
            "Generation = 106\n",
            "Fitness    = 0.6596651871407383\n",
            "Generation = 107\n",
            "Fitness    = 0.6596651871407383\n",
            "Generation = 108\n",
            "Fitness    = 0.6596651871407383\n",
            "Generation = 109\n",
            "Fitness    = 0.6596651871407383\n",
            "Generation = 110\n",
            "Fitness    = 0.6596651871407383\n",
            "Generation = 111\n",
            "Fitness    = 0.6596651871407383\n",
            "Generation = 112\n",
            "Fitness    = 0.6596651871407383\n",
            "Generation = 113\n",
            "Fitness    = 0.6596651871407383\n",
            "Generation = 114\n",
            "Fitness    = 0.6596651871407383\n",
            "Generation = 115\n",
            "Fitness    = 0.6596651871407383\n",
            "Generation = 116\n",
            "Fitness    = 0.6596651871407383\n",
            "Generation = 117\n",
            "Fitness    = 0.6596651871407383\n",
            "Generation = 118\n",
            "Fitness    = 0.6596651871407383\n",
            "Generation = 119\n",
            "Fitness    = 0.6596651871407383\n",
            "Generation = 120\n",
            "Fitness    = 0.6611824822462743\n",
            "Generation = 121\n",
            "Fitness    = 0.6611824822462743\n",
            "Generation = 122\n",
            "Fitness    = 0.6611824822462743\n",
            "Generation = 123\n",
            "Fitness    = 0.6611824822462743\n",
            "Generation = 124\n",
            "Fitness    = 0.6611824822462743\n",
            "Generation = 125\n",
            "Fitness    = 0.6611824822462743\n",
            "Generation = 126\n",
            "Fitness    = 0.6611824822462743\n",
            "Generation = 127\n",
            "Fitness    = 0.6611824822462743\n",
            "Generation = 128\n",
            "Fitness    = 0.6611824822462743\n",
            "Generation = 129\n",
            "Fitness    = 0.6611824822462743\n",
            "Generation = 130\n",
            "Fitness    = 0.6611824822462743\n",
            "Generation = 131\n",
            "Fitness    = 0.6611824822462743\n",
            "Generation = 132\n",
            "Fitness    = 0.6611824822462743\n",
            "Generation = 133\n",
            "Fitness    = 0.6611824822462743\n",
            "Generation = 134\n",
            "Fitness    = 0.6611824822462743\n",
            "Generation = 135\n",
            "Fitness    = 0.6611824822462743\n",
            "Generation = 136\n",
            "Fitness    = 0.6611824822462743\n",
            "Generation = 137\n",
            "Fitness    = 0.6611824822462743\n",
            "Generation = 138\n",
            "Fitness    = 0.6611824822462743\n",
            "Generation = 139\n",
            "Fitness    = 0.6611824822462743\n",
            "Generation = 140\n",
            "Fitness    = 0.6611824822462743\n",
            "Generation = 141\n",
            "Fitness    = 0.6611824822462743\n",
            "Generation = 142\n",
            "Fitness    = 0.6611824822462743\n",
            "Generation = 143\n",
            "Fitness    = 0.6611824822462743\n",
            "Generation = 144\n",
            "Fitness    = 0.6611824822462743\n",
            "Generation = 145\n",
            "Fitness    = 0.6611824822462743\n",
            "Generation = 146\n",
            "Fitness    = 0.6611824822462743\n",
            "Generation = 147\n",
            "Fitness    = 0.6611824822462743\n",
            "Generation = 148\n",
            "Fitness    = 0.6611824822462743\n",
            "Generation = 149\n",
            "Fitness    = 0.6611824822462743\n",
            "Generation = 150\n",
            "Fitness    = 0.6611824822462743\n",
            "Generation = 151\n",
            "Fitness    = 0.6611824822462743\n",
            "Generation = 152\n",
            "Fitness    = 0.6611824822462743\n",
            "Generation = 153\n",
            "Fitness    = 0.6611824822462743\n",
            "Generation = 154\n",
            "Fitness    = 0.6611824822462743\n",
            "Generation = 155\n",
            "Fitness    = 0.6611824822462743\n",
            "Generation = 156\n",
            "Fitness    = 0.6611824822462743\n",
            "Generation = 157\n",
            "Fitness    = 0.6611824822462743\n",
            "Generation = 158\n",
            "Fitness    = 0.6611824822462743\n",
            "Generation = 159\n",
            "Fitness    = 0.6611824822462743\n",
            "Generation = 160\n",
            "Fitness    = 0.6611824822462743\n",
            "Generation = 161\n",
            "Fitness    = 0.6611824822462743\n",
            "Generation = 162\n",
            "Fitness    = 0.6618347561050799\n",
            "Generation = 163\n",
            "Fitness    = 0.6618347561050799\n",
            "Generation = 164\n",
            "Fitness    = 0.6618347561050799\n",
            "Generation = 165\n",
            "Fitness    = 0.6618347561050799\n",
            "Generation = 166\n",
            "Fitness    = 0.6618347561050799\n",
            "Generation = 167\n",
            "Fitness    = 0.6618347561050799\n",
            "Generation = 168\n",
            "Fitness    = 0.6618347561050799\n",
            "Generation = 169\n",
            "Fitness    = 0.6618347561050799\n",
            "Generation = 170\n",
            "Fitness    = 0.6618347561050799\n",
            "Generation = 171\n",
            "Fitness    = 0.6618347561050799\n",
            "Generation = 172\n",
            "Fitness    = 0.6618347561050799\n",
            "Generation = 173\n",
            "Fitness    = 0.6618347561050799\n",
            "Generation = 174\n",
            "Fitness    = 0.6618347561050799\n",
            "Generation = 175\n",
            "Fitness    = 0.6618347561050799\n",
            "Generation = 176\n",
            "Fitness    = 0.6618347561050799\n",
            "Generation = 177\n",
            "Fitness    = 0.6618347561050799\n",
            "Generation = 178\n",
            "Fitness    = 0.6618347561050799\n",
            "Generation = 179\n",
            "Fitness    = 0.6618347561050799\n",
            "Generation = 180\n",
            "Fitness    = 0.6618347561050799\n",
            "Generation = 181\n",
            "Fitness    = 0.6618347561050799\n",
            "Generation = 182\n",
            "Fitness    = 0.6618347561050799\n",
            "Generation = 183\n",
            "Fitness    = 0.6618347561050799\n",
            "Generation = 184\n",
            "Fitness    = 0.6618347561050799\n",
            "Generation = 185\n",
            "Fitness    = 0.6618347561050799\n",
            "Generation = 186\n",
            "Fitness    = 0.6618347561050799\n",
            "Generation = 187\n",
            "Fitness    = 0.6618347561050799\n",
            "Generation = 188\n",
            "Fitness    = 0.6618347561050799\n",
            "Generation = 189\n",
            "Fitness    = 0.6618347561050799\n",
            "Generation = 190\n",
            "Fitness    = 0.6618347561050799\n",
            "Generation = 191\n",
            "Fitness    = 0.6618347561050799\n",
            "Generation = 192\n",
            "Fitness    = 0.6618347561050799\n",
            "Generation = 193\n",
            "Fitness    = 0.6618347561050799\n",
            "Generation = 194\n",
            "Fitness    = 0.6618347561050799\n",
            "Generation = 195\n",
            "Fitness    = 0.6618347561050799\n",
            "Generation = 196\n",
            "Fitness    = 0.6618347561050799\n",
            "Generation = 197\n",
            "Fitness    = 0.6618347561050799\n",
            "Generation = 198\n",
            "Fitness    = 0.6618347561050799\n",
            "Generation = 199\n",
            "Fitness    = 0.6618347561050799\n",
            "Generation = 200\n",
            "Fitness    = 0.6618347561050799\n"
          ]
        }
      ]
    },
    {
      "cell_type": "code",
      "metadata": {
        "colab": {
          "base_uri": "https://localhost:8080/",
          "height": 638
        },
        "id": "hVXxogBjszxq",
        "outputId": "92c08c7a-9b88-406c-8e50-8e348456d0a0"
      },
      "source": [
        "ga_instance.plot_result(title=\"PyGAD & Keras - Iteration vs. Fitness\", linewidth=4)"
      ],
      "execution_count": null,
      "outputs": [
        {
          "output_type": "stream",
          "name": "stderr",
          "text": [
            "/usr/local/lib/python3.7/dist-packages/pygad/pygad.py:3135: UserWarning: Please use the plot_fitness() method instead of plot_result(). The plot_result() method will be removed in the future.\n",
            "  warnings.warn(\"Please use the plot_fitness() method instead of plot_result(). The plot_result() method will be removed in the future.\")\n"
          ]
        },
        {
          "output_type": "display_data",
          "data": {
            "image/png": "[encoded data removed]",
            "text/plain": [
              "<Figure size 432x288 with 1 Axes>"
            ]
          },
          "metadata": {
            "needs_background": "light"
          }
        },
        {
          "output_type": "execute_result",
          "data": {
            "image/png": "[encoded data removed]",
            "text/plain": [
              "<Figure size 432x288 with 1 Axes>"
            ]
          },
          "metadata": {},
          "execution_count": 15
        }
      ]
    },
    {
      "cell_type": "code",
      "metadata": {
        "colab": {
          "base_uri": "https://localhost:8080/"
        },
        "id": "mH0ebSVNtP3M",
        "outputId": "b197b65b-8983-434c-986c-579c3d060e33"
      },
      "source": [
        "# Returning the details of the best solution.\n",
        "solution, solution_fitness, solution_idx = ga_instance.best_solution()\n",
        "print(\"Fitness value of the best solution = {solution_fitness}\".format(solution_fitness=solution_fitness))\n",
        "print(\"Index of the best solution : {solution_idx}\".format(solution_idx=solution_idx))"
      ],
      "execution_count": null,
      "outputs": [
        {
          "output_type": "stream",
          "name": "stdout",
          "text": [
            "Fitness value of the best solution = 0.6618347561050799\n",
            "Index of the best solution : 0\n"
          ]
        }
      ]
    },
    {
      "cell_type": "code",
      "metadata": {
        "colab": {
          "base_uri": "https://localhost:8080/"
        },
        "id": "SwwCfmzPtVDr",
        "outputId": "4ce70779-8044-4fab-80af-ebad51379db7"
      },
      "source": [
        "# Fetch the parameters of the best solution.\n",
        "best_solution_weights = pygad.kerasga.model_weights_as_matrix(model=model,\n",
        "                                                              weights_vector=solution)\n",
        "model.set_weights(best_solution_weights)\n",
        "predictions = model.predict(data_inputs)\n",
        "print(\"Predictions : \\n\", predictions)"
      ],
      "execution_count": null,
      "outputs": [
        {
          "output_type": "stream",
          "name": "stdout",
          "text": [
            "Predictions : \n",
            " [[0.31732282 0.15211262 0.1110511  0.09780893 0.32170457]\n",
            " [0.34075645 0.11785249 0.12750217 0.08691484 0.326974  ]\n",
            " [0.29093298 0.14399323 0.10338915 0.09352844 0.3681562 ]\n",
            " ...\n",
            " [0.30320495 0.14917764 0.10008746 0.09268676 0.35484314]\n",
            " [0.37758252 0.13250144 0.09072649 0.09780654 0.30138308]\n",
            " [0.30754134 0.16717866 0.09971723 0.11013441 0.3154284 ]]\n"
          ]
        }
      ]
    },
    {
      "cell_type": "code",
      "metadata": {
        "colab": {
          "base_uri": "https://localhost:8080/"
        },
        "id": "bhY3Nnu-tImK",
        "outputId": "a20939a6-d4f4-42d1-8356-c3da13e457d4"
      },
      "source": [
        "# Calculate the categorical crossentropy for the trained model.\n",
        "cce = tensorflow.keras.losses.CategoricalCrossentropy()\n",
        "print(\"Categorical Crossentropy : \", cce(data_outputs, predictions).numpy())\n",
        "\n",
        "# Calculate the classification accuracy for the trained model.\n",
        "ca = tensorflow.keras.metrics.CategoricalAccuracy()\n",
        "ca.update_state(data_outputs, predictions)\n",
        "accuracy = ca.result().numpy()\n",
        "print(\"Accuracy : \", accuracy)"
      ],
      "execution_count": null,
      "outputs": [
        {
          "output_type": "stream",
          "name": "stdout",
          "text": [
            "Categorical Crossentropy :  1.5109512\n",
            "Accuracy :  0.29333332\n"
          ]
        }
      ]
    }
  ]
}