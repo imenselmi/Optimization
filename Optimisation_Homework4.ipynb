{
  "nbformat": 4,
  "nbformat_minor": 0,
  "metadata": {
    "colab": {
      "name": "Optimisation_Homework4.ipynb",
      "provenance": [],
      "collapsed_sections": []
    },
    "kernelspec": {
      "name": "python3",
      "display_name": "Python 3"
    },
    "language_info": {
      "name": "python"
    }
  },
  "cells": [
    {
      "cell_type": "code",
      "metadata": {
        "id": "IEpsLwp4HGdA"
      },
      "source": [
        "import math\n",
        "import random\n",
        "import matplotlib.pyplot as plt\n",
        "import numpy as np"
      ],
      "execution_count": null,
      "outputs": []
    },
    {
      "cell_type": "code",
      "metadata": {
        "id": "AY2fJTJIKV-E"
      },
      "source": [
        "class SimAnneal(object):\n",
        "    def __init__(self, N, T=-1, alpha=-1, stopping_T=-1, stopping_iter=-1):\n",
        "        self.N = N #is the size of solution\n",
        "        self.T = math.sqrt(self.N) if T == -1 else T\n",
        "        self.T_save = self.T  # save inital T to reset if batch annealing is used\n",
        "        self.alpha = 0.995 if alpha == -1 else alpha\n",
        "        self.stopping_temperature = 1e-8 if stopping_T == -1 else stopping_T\n",
        "        self.stopping_iter = 100000 if stopping_iter == -1 else stopping_iter\n",
        "        self.iteration = 1 # a counter for iterations\n",
        "\n",
        "        self.best_solution = None\n",
        "        self.best_fitness = float(\"Inf\")\n",
        "        self.fitness_list = []\n",
        "\n",
        "    def initial_solution(self):\n",
        "        \"\"\"\n",
        "        Greedy algorithm to get an initial solution (closest-neighbour).\n",
        "        \"\"\"\n",
        "        solution = np.random.rand(6)\n",
        "\n",
        "        cur_fit = self.fitness(solution)\n",
        "        if cur_fit < self.best_fitness:  # If best found so far, update best fitness\n",
        "            self.best_fitness = cur_fit\n",
        "            self.best_solution = solution\n",
        "        self.fitness_list.append(cur_fit)\n",
        "        return solution, cur_fit\n",
        "\n",
        "    def fitness(self, solution):\n",
        "        w=solution\n",
        "        cur_fit =1/abs(4*w[0] - 2*w[1] + 3.5*w[2] + 5*w[3] - 11*w[4] - 4.7*w[5])\n",
        "        return cur_fit\n",
        "\n",
        "    def p_accept(self, candidate_fitness):\n",
        "        \"\"\"\n",
        "        Probability of accepting if the candidate is worse than current.\n",
        "        Depends on the current temperature and difference between candidate and current.\n",
        "        \"\"\"\n",
        "        return math.exp(-abs(candidate_fitness - self.cur_fitness) / self.T)\n",
        "\n",
        "    def accept(self, candidate):\n",
        "        \"\"\"\n",
        "        Accept with probability 1 if candidate is better than current.\n",
        "        Accept with probabilty p_accept(..) if candidate is worse.\n",
        "        \"\"\"\n",
        "        candidate_fitness = self.fitness(candidate)\n",
        "        if candidate_fitness < self.cur_fitness:\n",
        "            self.cur_fitness, self.cur_solution = candidate_fitness, candidate\n",
        "            if candidate_fitness < self.best_fitness:\n",
        "                self.best_fitness, self.best_solution = candidate_fitness, candidate\n",
        "        else:\n",
        "            if random.random() < self.p_accept(candidate_fitness):\n",
        "                self.cur_fitness, self.cur_solution = candidate_fitness, candidate\n",
        "\n",
        "    def anneal(self):\n",
        "        \"\"\"\n",
        "        Execute simulated annealing algorithm.\n",
        "        \"\"\"\n",
        "        # Initialize with the greedy solution.\n",
        "        self.cur_solution, self.cur_fitness = self.initial_solution()\n",
        "\n",
        "        print(\"Starting annealing.\")\n",
        "        while self.T >= self.stopping_temperature and self.iteration < self.stopping_iter:\n",
        "            candidate = list(self.cur_solution) \n",
        "            #random.randint(start, stop) returns a integer value betwwen start and stop\n",
        "            l = random.randint(2, self.N - 1)\n",
        "            i = random.randint(0, self.N - l)\n",
        "            candidate[i : (i + l)] = reversed(candidate[i : (i + l)])\n",
        "            #example candidate=[1,2,3,4,5]\n",
        "            #l=4 and i= 0 ==> candidate[i : (i + l)]=[1,2,3,4]\n",
        "            #reversed(candidate[i : (i + l)])=[4,3,2,1]\n",
        "            #candidate=[4,3,2,1,5]\n",
        "            self.accept(candidate)\n",
        "            self.T *= self.alpha #Appy the geometric temprature reduction rule\n",
        "            self.iteration += 1\n",
        "\n",
        "            self.fitness_list.append(self.cur_fitness)\n",
        "\n",
        "        print(\"Best fitness obtained: \", self.best_fitness)\n",
        "        improvement = 100 * (self.fitness_list[0] - self.best_fitness) / (self.fitness_list[0])\n",
        "        print(f\"Improvement over greedy heuristic: {improvement : .2f}%\")\n",
        "\n",
        "    def batch_anneal(self, times=10):\n",
        "        \"\"\"\n",
        "        Execute simulated annealing algorithm `times` times, with random initial solutions.\n",
        "        \"\"\"\n",
        "        for i in range(1, times + 1):\n",
        "            print(f\"Iteration {i}/{times} -------------------------------\")\n",
        "            self.T = self.T_save\n",
        "            self.iteration = 1\n",
        "            self.cur_solution, self.cur_fitness = self.initial_solution()\n",
        "            self.anneal()\n",
        "\n",
        "    def plot_learning(self):\n",
        "        \"\"\"\n",
        "        Plot the fitness through iterations.\n",
        "        \"\"\"\n",
        "        plt.plot([i for i in range(len(self.fitness_list))], self.fitness_list)\n",
        "        plt.ylabel(\"Fitness\")\n",
        "        plt.xlabel(\"Iteration\")\n",
        "        plt.show()"
      ],
      "execution_count": null,
      "outputs": []
    },
    {
      "cell_type": "code",
      "metadata": {
        "colab": {
          "base_uri": "https://localhost:8080/",
          "height": 348
        },
        "id": "JW3PUurcK04R",
        "outputId": "1f89a5d3-88dc-4f42-8c18-a56ec4718425"
      },
      "source": [
        "if __name__ == \"__main__\":\n",
        "    sa = SimAnneal(6, stopping_iter=5000)\n",
        "    sa.anneal()\n",
        "    sa.plot_learning()\n",
        "    print(sa.best_solution)"
      ],
      "execution_count": null,
      "outputs": [
        {
          "output_type": "stream",
          "name": "stdout",
          "text": [
            "Starting annealing.\n",
            "Best fitness obtained:  0.08670147676214088\n",
            "Improvement over greedy heuristic:  57.24%\n"
          ]
        },
        {
          "output_type": "display_data",
          "data": {
            "image/png": "[encoded data removed]",
            "text/plain": [
              "<Figure size 432x288 with 1 Axes>"
            ]
          },
          "metadata": {
            "needs_background": "light"
          }
        },
        {
          "output_type": "stream",
          "name": "stdout",
          "text": [
            "[0.17445267463840008, 0.4803767945471873, 0.29273881675602564, 0.07124925886120059, 0.8709007380103427, 0.6535766092142399]\n"
          ]
        }
      ]
    }
  ]
}